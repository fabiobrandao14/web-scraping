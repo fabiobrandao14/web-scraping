{
 "cells": [
  {
   "cell_type": "code",
   "execution_count": 1,
   "metadata": {
    "scrolled": true
   },
   "outputs": [
    {
     "name": "stdout",
     "output_type": "stream",
     "text": [
      "BeautifulSoup -> 4.8.2\n",
      "urllib -> 3.7\n",
      "pandas -> 1.0.1\n",
      "44\n",
      "                                  nome     value\n",
      "0         Blusa Lastex Azul ClaroRef:    R$298,0\n",
      "1             Blusa Botões BrancaRef:    R$358,0\n",
      "2              Blusa Lastex PretoRef:    R$298,0\n",
      "3             Blusa Organza PretaRef:    R$329,0\n",
      "4                 Blusa Poá AreiaRef:    R$278,0\n",
      "5                 Blusa Poá PretoRef:    R$278,0\n",
      "6               Blusa Poá MarinhoRef:    R$278,0\n",
      "7               Vestido Poá PretoRef:    R$398,0\n",
      "8             Vestido Poá MarinhoRef:    R$398,0\n",
      "9         Blusa Punho Branco RoséRef:    R$279,0\n",
      "10         Blusa Punho Rosa ClaroRef:    R$279,0\n",
      "11           Blusa Punho MostardaRef:    R$279,0\n",
      "12            Blusa Punho MarinhoRef:    R$279,0\n",
      "13             Top de Renda PretoRef:    R$139,0\n",
      "14              Top de Renda PinkRef:    R$139,0\n",
      "15                Calça Jeans MomRef:    R$289,0\n",
      "16               Calça Lurex RosaRef:    R$239,0\n",
      "17            Calça Lurex MarinhoRef:    R$239,0\n",
      "18           Calça de Couro PretaRef:    R$389,0\n",
      "19      Camisa Bufante Azul ClaroRef:    R$279,0\n",
      "20           Camisa Bufante AreiaRef:    R$279,0\n",
      "21         Camisa Oversized LilásRef:    R$259,0\n",
      "22        Camisa Oversized BrancaRef:    R$259,0\n",
      "23       Blazer Alfaiataria PretoRef:    R$389,0\n",
      "24  Blazer Alfaiataria Rosa ClaroRef:    R$389,0\n",
      "25      Blazer Alfaiataria CameloRef:    R$389,0\n",
      "26  Blazer Alfaiataria Azul ClaroRef:    R$389,0\n",
      "27       Calça Alfaiataria CameloRef:    R$259,0\n",
      "28   Calça Alfaiataria Azul ClaroRef:    R$259,0\n",
      "29     Vestido Midi Verde MilitarRef:    R$398,0\n",
      "30           Vestido Midi MarinhoRef:    R$398,0\n",
      "31          Vestido Midi MostardaRef:    R$398,0\n",
      "32            Cropped Tricot CaféRef:    R$239,0\n",
      "33      Cropped Tricot Azul ClaroRef:    R$239,0\n",
      "34         Cropped Tricot MarinhoRef:    R$239,0\n",
      "35      Cropped Tricot Rosa ClaroRef:    R$239,0\n",
      "36  Casaco Cropped Verde BandeiraRef:    R$319,0\n",
      "37         Casaco Cropped MarinhoRef:    R$319,0\n",
      "38      Casaco Cropped Rosa ClaroRef:    R$319,0\n",
      "39             Saia Midi MostardaRef:    R$239,0\n",
      "40              Saia Midi MarinhoRef:    R$239,0\n",
      "41         Corset de Tricot AreiaRef:    R$189,0\n",
      "42         Corset de Tricot PretoRef:    R$189,0\n",
      "43    Corset de Tricot Rosa ClaroRef:    R$189,0\n"
     ]
    }
   ],
   "source": [
    "#Importando a Biblioteca\n",
    "import bs4\n",
    "import urllib.request as urllib_request\n",
    "import pandas as pd \n",
    "from bs4 import BeautifulSoup\n",
    "from urllib.request import Request, urlopen, urlretrieve\n",
    "from urllib.error import URLError, HTTPError\n",
    "from urllib.request import urlretrieve\n",
    "\n",
    "print(\"BeautifulSoup ->\", bs4.__version__)\n",
    "print(\"urllib ->\", urllib_request.__version__)\n",
    "print(\"pandas ->\", pd.__version__)\n",
    "\n",
    "#DECLARANDO CARDS\n",
    "cards = []\n",
    "\n",
    "\n",
    "#DEFININDO HTML E URL \n",
    "url = 'https://www.alisoficial.com.br/loja?filtro=&pg=1'\n",
    "headers = {'User-Agent': 'Mozilla/5.0 (Macintosh; Intel Mac OS X 10_15_3) AppleWebKit/537.36 (KHTML, like Gecko) Chrome/81.0.4044.138 Safari/537.36'}\n",
    "\n",
    "try:\n",
    "    req = Request(url, headers = headers)\n",
    "    response = urlopen(req)\n",
    "    html = response.read().decode('UTF-8')\n",
    "       \n",
    "except HTTPError as e:\n",
    "    print(e.status, e.reason)\n",
    "    \n",
    "except URLError as e:\n",
    "    print(e.reason)\n",
    "     \n",
    "def trata_html(html):\n",
    "    return \" \".join(input.split()).replace('> <', '><')\n",
    "\n",
    "soup = BeautifulSoup(html, 'html.parser')\n",
    "\n",
    "pages = int(str(soup.find('ul', {'class': \"paginacao clear clearfix\"}))[-11])\n",
    "\n",
    "\n",
    "#anuncio = soup.find('div', {'class': 'produto-item swiper-slide'})\n",
    "#print(\"A calça custa\", anuncio.find('h4', {'class': 'produto-item-preco'}).get_text())\n",
    "\n",
    "\n",
    "## Iterando por todas as páginas do site\n",
    "for i in range(pages):\n",
    "    ## Obtendo o HTML\n",
    "    response = urlopen('https://www.alisoficial.com.br/loja?filtro=&pg=0' + str(i + 1))\n",
    "    html = response.read().decode('utf-8')\n",
    "    soup = BeautifulSoup(html, 'html.parser')\n",
    "\n",
    "    # Obtendo as TAGs de interesse\n",
    "    anuncios = soup.find('div', {\"class\": \"produtos clearfix\"}).findAll('div', class_=\"produto-item swiper-slide\")\n",
    "\n",
    "    # Coletando as informações dos CARDS\n",
    "    for anuncio in anuncios:\n",
    "        card = {}\n",
    "\n",
    "        # Valor\n",
    "        card['nome'] = anuncio.find('h2', {'class': 'produto-item-nome'}).get_text()\n",
    "        card['value'] = anuncio.find('h4', {'class': 'produto-item-preco'}).get_text()[0:8]\n",
    "        # Informações\n",
    "        #infos = anuncio.find('div', {'class': 'body-card'}).findAll('p')\n",
    "        #for info in infos:\n",
    "        #    card[info.get('class')[0].split('-')[-1]] = info.get_text()\n",
    "\n",
    "        # Acessórios\n",
    "        #items = anuncio.find('div', {'class': 'body-card'}).ul.findAll('li')\n",
    "        #items.pop()\n",
    "        #acessorios = []\n",
    "       #for item in items:\n",
    "        #    acessorios.append(item.get_text().replace('► ', ''))\n",
    "        #card['items'] = acessorios\n",
    "\n",
    "        # Imagens\n",
    "        #image = soup.find('div', {'class': 'produto-item swiper-slide'}).img\n",
    "        #print(image.get('data-original'))\n",
    "        #card['image'] = image.get('data-original') \n",
    "\n",
    "        # Adicionando resultado a lista cards\n",
    "        cards.append(card)\n",
    "         \n",
    "\n",
    "print(len(cards))\n",
    "#print(image)\n",
    "# Criando um DataFrame com os resultados\n",
    "dataset = pd.DataFrame(cards)\n",
    "print(dataset)\n",
    "dataset.to_csv('./testes/alis.csv', sep=';', index = False, encoding = 'utf-8-sig')\n",
    "#print(dataset)\n"
   ]
  },
  {
   "cell_type": "code",
   "execution_count": 3,
   "metadata": {},
   "outputs": [
    {
     "name": "stdout",
     "output_type": "stream",
     "text": [
      "{'nome': 'Corset de Tricot Rosa ClaroRef: ', 'value': ' R$189,0'}\n"
     ]
    }
   ],
   "source": [
    "print(card)"
   ]
  },
  {
   "cell_type": "code",
   "execution_count": 4,
   "metadata": {},
   "outputs": [
    {
     "ename": "AttributeError",
     "evalue": "'dict' object has no attribute 'stack'",
     "output_type": "error",
     "traceback": [
      "\u001b[0;31m---------------------------------------------------------------------------\u001b[0m",
      "\u001b[0;31mAttributeError\u001b[0m                            Traceback (most recent call last)",
      "\u001b[0;32m<ipython-input-4-5ec4d11be09f>\u001b[0m in \u001b[0;36m<module>\u001b[0;34m\u001b[0m\n\u001b[0;32m----> 1\u001b[0;31m \u001b[0mcard\u001b[0m\u001b[0;34m.\u001b[0m\u001b[0mstack\u001b[0m\u001b[0;34m(\u001b[0m\u001b[0;34m)\u001b[0m\u001b[0;34m\u001b[0m\u001b[0;34m\u001b[0m\u001b[0m\n\u001b[0m",
      "\u001b[0;31mAttributeError\u001b[0m: 'dict' object has no attribute 'stack'"
     ]
    }
   ],
   "source": []
  },
  {
   "cell_type": "code",
   "execution_count": null,
   "metadata": {},
   "outputs": [],
   "source": []
  },
  {
   "cell_type": "code",
   "execution_count": null,
   "metadata": {},
   "outputs": [],
   "source": []
  },
  {
   "cell_type": "code",
   "execution_count": null,
   "metadata": {},
   "outputs": [],
   "source": []
  }
 ],
 "metadata": {
  "kernelspec": {
   "display_name": "Python 3",
   "language": "python",
   "name": "python3"
  },
  "language_info": {
   "codemirror_mode": {
    "name": "ipython",
    "version": 3
   },
   "file_extension": ".py",
   "mimetype": "text/x-python",
   "name": "python",
   "nbconvert_exporter": "python",
   "pygments_lexer": "ipython3",
   "version": "3.7.6"
  }
 },
 "nbformat": 4,
 "nbformat_minor": 4
}
